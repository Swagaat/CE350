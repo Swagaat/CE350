{
  "nbformat": 4,
  "nbformat_minor": 0,
  "metadata": {
    "colab": {
      "provenance": [],
      "authorship_tag": "ABX9TyO3bmHdJxbcoxgjD7eCV1qp",
      "include_colab_link": true
    },
    "kernelspec": {
      "name": "python3",
      "display_name": "Python 3"
    },
    "language_info": {
      "name": "python"
    }
  },
  "cells": [
    {
      "cell_type": "markdown",
      "metadata": {
        "id": "view-in-github",
        "colab_type": "text"
      },
      "source": [
        "<a href=\"https://colab.research.google.com/github/Swagaat/CE350/blob/main/CE350(hw1).ipynb\" target=\"_parent\"><img src=\"https://colab.research.google.com/assets/colab-badge.svg\" alt=\"Open In Colab\"/></a>"
      ]
    },
    {
      "cell_type": "code",
      "execution_count": null,
      "metadata": {
        "id": "LYvpJK56fLhl"
      },
      "outputs": [],
      "source": [
        "#Question-1:\n",
        "def valid_number(number, base):\n",
        "    try:\n",
        "# Checking if the given number can be converted to an integer in the specified base.\n",
        "        int(number, base)\n",
        "        return True\n",
        "    except ValueError:\n",
        "        return False\n",
        "\n",
        "def convert_base(number, Curr_base, new_base):\n",
        "    if valid_number(number, Curr_base):\n",
        "        deci_number = int(number, Curr_base)\n",
        "        result = \"\"\n",
        "        while deci_number > 0:\n",
        "            remainder = deci_number % new_base\n",
        "            result = str(remainder) + result\n",
        "            deci_number //= new_base\n",
        "        return result\n",
        "    else:\n",
        "        return \"Invalid input number\"\n",
        "\n",
        "if __name__ == \"__main__\":\n",
        "    input_number = input(\"Enter the number you want to convert: \")\n",
        "    Curr_base = int(input(\"Enter the Current base of the number: \"))\n",
        "    new_base = int(input(\"Enter the new base for conversion: \"))\n",
        "\n",
        "    converted_number = convert_base(input_number, Curr_base, new_base)\n",
        "    print(f\"The result in base {new_base} is: {converted_number}\")\n"
      ]
    },
    {
      "cell_type": "code",
      "source": [
        "#question-2:\n",
        "def float_to_binary_fp(float_num, num_bits=14):\n",
        "    # Handle special cases (NaN, infinity, zero)\n",
        "    if float_num == 0.0:\n",
        "        return '0' * num_bits\n",
        "    elif float_num == float('inf') or float_num == float('-inf') or math.isnan(float_num):\n",
        "        return '1' + '0' * (num_bits - 1)\n",
        "\n",
        "    # Determine the sign bit\n",
        "    sign_bit = '1' if float_num < 0 else '0'\n",
        "\n",
        "    # Take the absolute value of the input number\n",
        "    abs_num = abs(float_num)\n",
        "\n",
        "    # Find the exponent and fraction bits\n",
        "    exponent = 0\n",
        "    while abs_num >= 2.0:\n",
        "        abs_num /= 2.0\n",
        "        exponent += 1\n",
        "\n",
        "    while abs_num < 1.0:\n",
        "        abs_num *= 2.0\n",
        "        exponent -= 1\n",
        "\n",
        "    # Convert the exponent to binary with bias\n",
        "    bias = 2 ** (num_bits - 1) - 1\n",
        "    exponent_binary = bin(exponent + bias)[2:].zfill(num_bits - 1)\n",
        "\n",
        "    # Convert the fraction to binary\n",
        "    fraction = abs_num - 1.0\n",
        "    fraction_binary = ''.join(['1' if i & 1 else '0' for i in range(int(fraction * 2 ** (num_bits - 1)))])\n",
        "    fraction_binary = fraction_binary[:num_bits - 1].ljust(num_bits - 1, '0')\n",
        "\n",
        "    # Combine the sign bit, exponent, and fraction\n",
        "    binary_fp = sign_bit + exponent_binary + fraction_binary\n",
        "\n",
        "    return binary_fp\n",
        "\n",
        "# Example usage\n",
        "import math\n",
        "\n",
        "# Convert 26.625 to 14-bit binary floating-point\n",
        "result = float_to_binary_fp(-26.625, num_bits=7)\n",
        "print(result)  # Output: '01000010000000'\n"
      ],
      "metadata": {
        "id": "aXR3q1gYfTVk"
      },
      "execution_count": null,
      "outputs": []
    }
  ]
}
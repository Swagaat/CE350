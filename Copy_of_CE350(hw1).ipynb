{
  "nbformat": 4,
  "nbformat_minor": 0,
  "metadata": {
    "colab": {
      "provenance": [],
      "authorship_tag": "ABX9TyNDzflxfqLa8rO/3/O05h4V",
      "include_colab_link": true
    },
    "kernelspec": {
      "name": "python3",
      "display_name": "Python 3"
    },
    "language_info": {
      "name": "python"
    }
  },
  "cells": [
    {
      "cell_type": "markdown",
      "metadata": {
        "id": "view-in-github",
        "colab_type": "text"
      },
      "source": [
        "<a href=\"https://colab.research.google.com/github/Swagaat/CE350/blob/main/Copy_of_CE350(hw1).ipynb\" target=\"_parent\"><img src=\"https://colab.research.google.com/assets/colab-badge.svg\" alt=\"Open In Colab\"/></a>"
      ]
    },
    {
      "cell_type": "code",
      "execution_count": null,
      "metadata": {
        "id": "LYvpJK56fLhl"
      },
      "outputs": [],
      "source": [
        "#Question-1:\n",
        "def valid_number(number, base):\n",
        "    try:\n",
        "# Checking if the given number can be converted to an integer in the specified base.\n",
        "        int(number, base)\n",
        "        return True\n",
        "    except ValueError:\n",
        "        return False\n",
        "\n",
        "def convert_base(number, Curr_base, new_base):\n",
        "    if valid_number(number, Curr_base):\n",
        "        deci_number = int(number, Curr_base)\n",
        "        result = \"\"\n",
        "        while deci_number > 0:\n",
        "            remainder = deci_number % new_base\n",
        "            result = str(remainder) + result\n",
        "            deci_number //= new_base\n",
        "        return result\n",
        "    else:\n",
        "        return \"Invalid input number\"\n",
        "\n",
        "if __name__ == \"__main__\":\n",
        "    input_number = input(\"Enter the number you want to convert: \")\n",
        "    Curr_base = int(input(\"Enter the Current base of the number: \"))\n",
        "    new_base = int(input(\"Enter the new base for conversion: \"))\n",
        "\n",
        "    converted_number = convert_base(input_number, Curr_base, new_base)\n",
        "    print(f\"The result in base {new_base} is: {converted_number}\")\n"
      ]
    },
    {
      "cell_type": "code",
      "source": [
        "def convert_to_floating_value(decimal_number):\n",
        "    bits = 0\n",
        "    bits = 0x2000 if decimal_number < 0 else 0x0000  # Set the sign bit (bit 13)\n",
        "\n",
        "    exponent = 0\n",
        "    normalized_decimal = abs(decimal_number)\n",
        "\n",
        "    if normalized_decimal != 0:\n",
        "        while normalized_decimal >= 2.0:\n",
        "            normalized_decimal /= 2.0\n",
        "            exponent += 1\n",
        "        while normalized_decimal < 1.0:\n",
        "            normalized_decimal *= 2.0\n",
        "            exponent -= 1\n",
        "\n",
        "    exponent += 6  # Bias for a 14-bit floating-point representation\n",
        "    bits |= (exponent << 10)  # Set the exponent bits (bits 12-10)\n",
        "\n",
        "    # Extract the fractional part and convert to binary\n",
        "    normalized_decimal -= 1.0\n",
        "    fractional_part = normalized_decimal\n",
        "    binary_fraction = []\n",
        "\n",
        "    for i in range(10):\n",
        "        fractional_part *= 2.0\n",
        "        bit = int(fractional_part)\n",
        "        binary_fraction.append(str(bit))\n",
        "        fractional_part -= bit\n",
        "\n",
        "    bits |= int(''.join(binary_fraction), 2)  # Set the fractional part (bits 9-0)\n",
        "\n",
        "    return bin(bits)[2:].zfill(14)\n",
        "\n",
        "\n",
        "if __name__ == \"__main__\":\n",
        "    given_decimal_number = 26.625  # User input\n",
        "    binary_representation = convert_to_floating_value(given_decimal_number)\n",
        "    print(\"The floating value for 14-bit binary:\", binary_representation)"
      ],
      "metadata": {
        "id": "aXR3q1gYfTVk",
        "outputId": "988ff77a-7812-41ee-d228-00ebc00745e7",
        "colab": {
          "base_uri": "https://localhost:8080/"
        }
      },
      "execution_count": null,
      "outputs": [
        {
          "output_type": "stream",
          "name": "stdout",
          "text": [
            "The floating value for 14-bit binary: 10101010101000\n"
          ]
        }
      ]
    }
  ]
}